{
 "cells": [
  {
   "cell_type": "code",
   "execution_count": 1,
   "id": "9ed97470-2105-4370-816d-adc2080ab306",
   "metadata": {},
   "outputs": [
    {
     "name": "stdout",
     "output_type": "stream",
     "text": [
      "Hello World in codespaces\n"
     ]
    }
   ],
   "source": [
    "print('Hello World in codespaces')"
   ]
  },
  {
   "cell_type": "code",
   "execution_count": null,
   "id": "4f1f9a13-4b43-415a-b239-3b37d43f08c7",
   "metadata": {},
   "outputs": [],
   "source": []
  }
 ],
 "metadata": {
  "kernelspec": {
   "display_name": "Python 3 (ipykernel)",
   "language": "python",
   "name": "python3"
  },
  "language_info": {
   "codemirror_mode": {
    "name": "ipython",
    "version": 3
   },
   "file_extension": ".py",
   "mimetype": "text/x-python",
   "name": "python",
   "nbconvert_exporter": "python",
   "pygments_lexer": "ipython3",
   "version": "3.12.1"
  }
 },
 "nbformat": 4,
 "nbformat_minor": 5
}
